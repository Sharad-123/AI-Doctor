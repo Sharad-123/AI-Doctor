{
 "cells": [
  {
   "cell_type": "code",
   "execution_count": 1,
   "id": "1004e13c-6d02-4e96-960d-e9f6577e4c0f",
   "metadata": {},
   "outputs": [],
   "source": [
    "import pandas as pd\n",
    "import numpy as np\n",
    "import re\n",
    "from scipy import sparse\n",
    "import matplotlib.pyplot as plt"
   ]
  },
  {
   "cell_type": "code",
   "execution_count": 2,
   "id": "965eb2db-3993-4eeb-9635-d5d5006ed573",
   "metadata": {},
   "outputs": [],
   "source": [
    "df = pd.read_csv(\"symtoms_df.csv\")"
   ]
  },
  {
   "cell_type": "code",
   "execution_count": 3,
   "id": "2ae040cc-fdd4-44af-ba28-c5096430acda",
   "metadata": {},
   "outputs": [
    {
     "data": {
      "text/html": [
       "<div>\n",
       "<style scoped>\n",
       "    .dataframe tbody tr th:only-of-type {\n",
       "        vertical-align: middle;\n",
       "    }\n",
       "\n",
       "    .dataframe tbody tr th {\n",
       "        vertical-align: top;\n",
       "    }\n",
       "\n",
       "    .dataframe thead th {\n",
       "        text-align: right;\n",
       "    }\n",
       "</style>\n",
       "<table border=\"1\" class=\"dataframe\">\n",
       "  <thead>\n",
       "    <tr style=\"text-align: right;\">\n",
       "      <th></th>\n",
       "      <th>Unnamed: 0</th>\n",
       "      <th>Disease</th>\n",
       "      <th>Symptom_1</th>\n",
       "      <th>Symptom_2</th>\n",
       "      <th>Symptom_3</th>\n",
       "      <th>Symptom_4</th>\n",
       "    </tr>\n",
       "  </thead>\n",
       "  <tbody>\n",
       "    <tr>\n",
       "      <th>0</th>\n",
       "      <td>0</td>\n",
       "      <td>Fungal infection</td>\n",
       "      <td>itching</td>\n",
       "      <td>skin_rash</td>\n",
       "      <td>nodal_skin_eruptions</td>\n",
       "      <td>dischromic _patches</td>\n",
       "    </tr>\n",
       "    <tr>\n",
       "      <th>1</th>\n",
       "      <td>1</td>\n",
       "      <td>Fungal infection</td>\n",
       "      <td>skin_rash</td>\n",
       "      <td>nodal_skin_eruptions</td>\n",
       "      <td>dischromic _patches</td>\n",
       "      <td>NaN</td>\n",
       "    </tr>\n",
       "    <tr>\n",
       "      <th>2</th>\n",
       "      <td>2</td>\n",
       "      <td>Fungal infection</td>\n",
       "      <td>itching</td>\n",
       "      <td>nodal_skin_eruptions</td>\n",
       "      <td>dischromic _patches</td>\n",
       "      <td>NaN</td>\n",
       "    </tr>\n",
       "    <tr>\n",
       "      <th>3</th>\n",
       "      <td>3</td>\n",
       "      <td>Fungal infection</td>\n",
       "      <td>itching</td>\n",
       "      <td>skin_rash</td>\n",
       "      <td>dischromic _patches</td>\n",
       "      <td>NaN</td>\n",
       "    </tr>\n",
       "    <tr>\n",
       "      <th>4</th>\n",
       "      <td>4</td>\n",
       "      <td>Fungal infection</td>\n",
       "      <td>itching</td>\n",
       "      <td>skin_rash</td>\n",
       "      <td>nodal_skin_eruptions</td>\n",
       "      <td>NaN</td>\n",
       "    </tr>\n",
       "    <tr>\n",
       "      <th>5</th>\n",
       "      <td>5</td>\n",
       "      <td>Fungal infection</td>\n",
       "      <td>skin_rash</td>\n",
       "      <td>nodal_skin_eruptions</td>\n",
       "      <td>dischromic _patches</td>\n",
       "      <td>NaN</td>\n",
       "    </tr>\n",
       "    <tr>\n",
       "      <th>6</th>\n",
       "      <td>6</td>\n",
       "      <td>Fungal infection</td>\n",
       "      <td>itching</td>\n",
       "      <td>nodal_skin_eruptions</td>\n",
       "      <td>dischromic _patches</td>\n",
       "      <td>NaN</td>\n",
       "    </tr>\n",
       "    <tr>\n",
       "      <th>7</th>\n",
       "      <td>7</td>\n",
       "      <td>Fungal infection</td>\n",
       "      <td>itching</td>\n",
       "      <td>skin_rash</td>\n",
       "      <td>dischromic _patches</td>\n",
       "      <td>NaN</td>\n",
       "    </tr>\n",
       "    <tr>\n",
       "      <th>8</th>\n",
       "      <td>8</td>\n",
       "      <td>Fungal infection</td>\n",
       "      <td>itching</td>\n",
       "      <td>skin_rash</td>\n",
       "      <td>nodal_skin_eruptions</td>\n",
       "      <td>NaN</td>\n",
       "    </tr>\n",
       "    <tr>\n",
       "      <th>9</th>\n",
       "      <td>9</td>\n",
       "      <td>Fungal infection</td>\n",
       "      <td>itching</td>\n",
       "      <td>skin_rash</td>\n",
       "      <td>nodal_skin_eruptions</td>\n",
       "      <td>dischromic _patches</td>\n",
       "    </tr>\n",
       "  </tbody>\n",
       "</table>\n",
       "</div>"
      ],
      "text/plain": [
       "   Unnamed: 0           Disease   Symptom_1              Symptom_2  \\\n",
       "0           0  Fungal infection     itching              skin_rash   \n",
       "1           1  Fungal infection   skin_rash   nodal_skin_eruptions   \n",
       "2           2  Fungal infection     itching   nodal_skin_eruptions   \n",
       "3           3  Fungal infection     itching              skin_rash   \n",
       "4           4  Fungal infection     itching              skin_rash   \n",
       "5           5  Fungal infection   skin_rash   nodal_skin_eruptions   \n",
       "6           6  Fungal infection     itching   nodal_skin_eruptions   \n",
       "7           7  Fungal infection     itching              skin_rash   \n",
       "8           8  Fungal infection     itching              skin_rash   \n",
       "9           9  Fungal infection     itching              skin_rash   \n",
       "\n",
       "               Symptom_3             Symptom_4  \n",
       "0   nodal_skin_eruptions   dischromic _patches  \n",
       "1    dischromic _patches                   NaN  \n",
       "2    dischromic _patches                   NaN  \n",
       "3    dischromic _patches                   NaN  \n",
       "4   nodal_skin_eruptions                   NaN  \n",
       "5    dischromic _patches                   NaN  \n",
       "6    dischromic _patches                   NaN  \n",
       "7    dischromic _patches                   NaN  \n",
       "8   nodal_skin_eruptions                   NaN  \n",
       "9   nodal_skin_eruptions   dischromic _patches  "
      ]
     },
     "execution_count": 3,
     "metadata": {},
     "output_type": "execute_result"
    }
   ],
   "source": [
    "df.head(10)"
   ]
  },
  {
   "cell_type": "code",
   "execution_count": 4,
   "id": "577e1c19-ae35-45fd-b453-ce56dc1afb86",
   "metadata": {},
   "outputs": [
    {
     "data": {
      "text/plain": [
       "['Unnamed: 0', 'Disease', 'Symptom_1', 'Symptom_2', 'Symptom_3', 'Symptom_4']"
      ]
     },
     "execution_count": 4,
     "metadata": {},
     "output_type": "execute_result"
    }
   ],
   "source": [
    "df.columns.tolist()  #columns available"
   ]
  },
  {
   "cell_type": "code",
   "execution_count": 5,
   "id": "3b533520-9a32-4ce0-96e8-8232611ecb16",
   "metadata": {},
   "outputs": [
    {
     "name": "stdout",
     "output_type": "stream",
     "text": [
      "\n",
      " Symptom Columns Found: ['Symptom_1', 'Symptom_2', 'Symptom_3', 'Symptom_4']\n"
     ]
    }
   ],
   "source": [
    "# ---- STEP 3: Identify All Symptom Columns ----\n",
    "# Detect all columns that contain symptoms (e.g., Symptom_1, Symptom_2, ...)\n",
    "symptom_columns = [col for col in df.columns if \"Symptom\" in col]\n",
    "print(\"\\n Symptom Columns Found:\", symptom_columns)"
   ]
  },
  {
   "cell_type": "code",
   "execution_count": 6,
   "id": "914ecd58-771f-4102-ad70-ad4d62ffd895",
   "metadata": {},
   "outputs": [],
   "source": [
    "# ---- STEP 4: Collect All Unique Symptoms ----\n",
    "# Combine all symptom entries, clean them (remove NaN, strip spaces, lowercase)\n",
    "unique_symptoms = pd.unique(df[symptom_columns].values.ravel())\n",
    "unique_symptoms = [s.strip().lower().replace(\" \", \"_\") for s in unique_symptoms if isinstance(s, str)]"
   ]
  },
  {
   "cell_type": "code",
   "execution_count": 7,
   "id": "af0b2483-ee9d-4d66-8ebd-7737e0446f56",
   "metadata": {},
   "outputs": [
    {
     "name": "stdout",
     "output_type": "stream",
     "text": [
      "\n",
      " Total Unique Symptoms Found: 86\n",
      "Examples: ['itching', 'skin_rash', 'nodal_skin_eruptions', 'dischromic__patches', 'continuous_sneezing', 'shivering', 'chills', 'watering_from_eyes', 'stomach_pain', 'acidity']\n"
     ]
    }
   ],
   "source": [
    "print(\"\\n Total Unique Symptoms Found:\", len(unique_symptoms))\n",
    "print(\"Examples:\", unique_symptoms[:10])"
   ]
  },
  {
   "cell_type": "code",
   "execution_count": 8,
   "id": "7779806e-9473-48ff-a935-c4e976a43508",
   "metadata": {},
   "outputs": [],
   "source": [
    "# ---- STEP 5: Create a New DataFrame for One-Hot Encoding ----\n",
    "# Initialize with zeros (same shape as diseases × symptoms)\n",
    "encoded_df = pd.DataFrame(0, index=df.index, columns=unique_symptoms)"
   ]
  },
  {
   "cell_type": "code",
   "execution_count": 9,
   "id": "51312af1-61fb-4c49-9786-1fc06a46a714",
   "metadata": {},
   "outputs": [
    {
     "name": "stdout",
     "output_type": "stream",
     "text": [
      "\n",
      " One-hot encoding completed!\n"
     ]
    }
   ],
   "source": [
    "# ---- STEP 6: Fill 1 Where Symptom is Present ----\n",
    "for index, row in df.iterrows():\n",
    "    for col in symptom_columns:\n",
    "        symptom = row[col]\n",
    "        if isinstance(symptom, str):\n",
    "            symptom_cleaned = symptom.strip().lower().replace(\" \", \"_\")\n",
    "            if symptom_cleaned in encoded_df.columns:\n",
    "                encoded_df.loc[index, symptom_cleaned] = 1\n",
    "\n",
    "print(\"\\n One-hot encoding completed!\")"
   ]
  },
  {
   "cell_type": "code",
   "execution_count": 10,
   "id": "e870d0cf-2b3a-4e32-bc12-860805073c5b",
   "metadata": {},
   "outputs": [],
   "source": [
    "# ---- STEP 7: Add Disease Column (Rename to Prognosis) ----\n",
    "encoded_df[\"prognosis\"] = df[\"Disease\"]"
   ]
  },
  {
   "cell_type": "code",
   "execution_count": 11,
   "id": "43ed482e-5a27-49a4-9b70-cc524d599ef6",
   "metadata": {},
   "outputs": [
    {
     "name": "stdout",
     "output_type": "stream",
     "text": [
      "\n",
      " Tokenized training-like dataset saved as: Training_like_AI_Doctor.csv\n"
     ]
    }
   ],
   "source": [
    "# ---- STEP 8: Save the Final Training-like Dataset ----\n",
    "output_path = \"Training_like_AI_Doctor.csv\"\n",
    "encoded_df.to_csv(output_path, index=False)\n",
    "\n",
    "print(f\"\\n Tokenized training-like dataset saved as: {output_path}\")"
   ]
  },
  {
   "cell_type": "code",
   "execution_count": 12,
   "id": "f3fafc88-a356-4992-9dad-764b185d647a",
   "metadata": {},
   "outputs": [
    {
     "name": "stdout",
     "output_type": "stream",
     "text": [
      "\n",
      " New dataset saved successfully as: Training_like_AI_Doctor.csv\n"
     ]
    }
   ],
   "source": [
    "print(\"\\n New dataset saved successfully as:\", output_path)"
   ]
  },
  {
   "cell_type": "code",
   "execution_count": 13,
   "id": "7e412bb1-5049-42e2-95b1-65357e5fa7d4",
   "metadata": {},
   "outputs": [
    {
     "name": "stdout",
     "output_type": "stream",
     "text": [
      "\n",
      " Preview of Training-like Dataset:\n",
      "   itching  skin_rash  nodal_skin_eruptions  dischromic__patches  \\\n",
      "0        1          1                     1                    1   \n",
      "\n",
      "   continuous_sneezing  shivering  chills  watering_from_eyes  stomach_pain  \\\n",
      "0                    0          0       0                   0             0   \n",
      "\n",
      "   acidity  ...  bladder_discomfort  foul_smell_of_urine  \\\n",
      "0        0  ...                   0                    0   \n",
      "\n",
      "   continuous_feel_of_urine  skin_peeling  silver_like_dusting  \\\n",
      "0                         0             0                    0   \n",
      "\n",
      "   small_dents_in_nails  blister  red_sore_around_nose  yellow_crust_ooze  \\\n",
      "0                     0        0                     0                  0   \n",
      "\n",
      "          prognosis  \n",
      "0  Fungal infection  \n",
      "\n",
      "[1 rows x 87 columns]\n"
     ]
    }
   ],
   "source": [
    "# ---- STEP 9: Show a Preview ----\n",
    "print(\"\\n Preview of Training-like Dataset:\")\n",
    "print(encoded_df.head(1))"
   ]
  },
  {
   "cell_type": "code",
   "execution_count": 14,
   "id": "0a10153b-3729-4d70-bcdf-a1cf7a926e77",
   "metadata": {},
   "outputs": [],
   "source": [
    "# ============================================================\n",
    "#  AI DOCTOR — Random Forest (Scikit-Learn + OneHot + Full Metrics + CSV Info)\n",
    "# ============================================================\n",
    "\n",
    "import pandas as pd\n",
    "import numpy as np\n",
    "from sklearn.model_selection import train_test_split\n",
    "from sklearn.preprocessing import OneHotEncoder\n",
    "from sklearn.metrics import classification_report, roc_auc_score, confusion_matrix\n",
    "from sklearn.ensemble import RandomForestClassifier\n",
    "import matplotlib.pyplot as plt\n",
    "import seaborn as sns\n",
    "import ast, math, random, difflib, warnings\n",
    "warnings.filterwarnings(\"ignore\")"
   ]
  },
  {
   "cell_type": "code",
   "execution_count": 15,
   "id": "50a3008e-c1c0-43da-bb19-0e4d85ac42c9",
   "metadata": {},
   "outputs": [],
   "source": [
    "# ============================================================\n",
    "# STEP 1: LOAD DATASETS\n",
    "# ============================================================\n",
    "desc = pd.read_csv(\"description.csv\")\n",
    "diet = pd.read_csv(\"diets.csv\")\n",
    "med = pd.read_csv(\"medications.csv\")\n",
    "prec = pd.read_csv(\"precautions_df.csv\")\n",
    "sev = pd.read_csv(\"Symptom-severity.csv\")\n",
    "work = pd.read_csv(\"workout_df.csv\")\n",
    "df = pd.read_csv(\"Training_like_AI_Doctor.csv\")"
   ]
  },
  {
   "cell_type": "code",
   "execution_count": 16,
   "id": "cb31527d-4a44-4699-b8a6-f9c79b6ec255",
   "metadata": {},
   "outputs": [],
   "source": [
    "# ============================================================\n",
    "# STEP 2: FILTER VALID SYMPTOMS\n",
    "# ============================================================\n",
    "symptom_freq = (df.drop(columns=[\"prognosis\"]) > 0).sum()\n",
    "valid_symptoms = symptom_freq[symptom_freq >= 3].index\n",
    "df = df[[\"prognosis\"] + valid_symptoms.tolist()]\n",
    "\n",
    "X = df.drop(columns=[\"prognosis\"])\n",
    "y = df[[\"prognosis\"]]   # Make it 2D for OneHotEncoder\n",
    "\n",
    "# One-Hot Encode target\n",
    "ohe = OneHotEncoder(sparse_output=False)\n",
    "y_enc = ohe.fit_transform(y)\n",
    "\n",
    "# Store class names for later\n",
    "class_names = ohe.categories_[0]\n",
    "\n",
    "X_train, X_test, y_train, y_test = train_test_split(\n",
    "    X, y_enc, test_size=0.2, random_state=42, stratify=y\n",
    ")\n"
   ]
  },
  {
   "cell_type": "code",
   "execution_count": 17,
   "id": "a7fccc9e-aea0-4941-8e6e-528f6c856754",
   "metadata": {},
   "outputs": [],
   "source": [
    "# ============================================================\n",
    "# STEP 3: TRAIN USING SKLEARN RANDOM FOREST\n",
    "# ============================================================\n",
    "forest = RandomForestClassifier(\n",
    "    n_estimators=150,\n",
    "    max_depth=18,\n",
    "    min_samples_split=2,\n",
    "    bootstrap=True,\n",
    "    random_state=42,\n",
    "    n_jobs=-1\n",
    ")\n",
    "\n",
    "forest.fit(X_train, np.argmax(y_train, axis=1))  # sklearn needs integer targets\n",
    "\n",
    "# Predict probabilities & labels\n",
    "y_prob = forest.predict_proba(X_test)\n",
    "# sklearn returns list of arrays (one per class) when multi-class — handle that:\n",
    "if isinstance(y_prob, list):\n",
    "    y_prob = np.vstack([p[:, 1] for p in y_prob]).T\n",
    "y_pred = np.argmax(y_prob, axis=1)\n",
    "y_true = np.argmax(y_test, axis=1)"
   ]
  },
  {
   "cell_type": "code",
   "execution_count": 18,
   "id": "5edf6d05-9478-4466-aab9-f55ca2d2293b",
   "metadata": {},
   "outputs": [
    {
     "name": "stdout",
     "output_type": "stream",
     "text": [
      "\n",
      " Random Forest trained successfully! Accuracy ≈ 99.70%\n",
      "\n",
      " Classification Metrics:\n",
      "                                         precision  recall  f1-score\n",
      "(vertigo) Paroymsal  Positional Vertigo      1.000   1.000     1.000\n",
      "AIDS                                         1.000   1.000     1.000\n",
      "Acne                                         1.000   1.000     1.000\n",
      "Alcoholic hepatitis                          1.000   1.000     1.000\n",
      "Allergy                                      1.000   1.000     1.000\n",
      "Arthritis                                    1.000   1.000     1.000\n",
      "Bronchial Asthma                             0.960   1.000     0.980\n",
      "Cervical spondylosis                         1.000   1.000     1.000\n",
      "Chicken pox                                  1.000   1.000     1.000\n",
      "Chronic cholestasis                          1.000   1.000     1.000\n",
      "Common Cold                                  1.000   0.958     0.979\n",
      "Dengue                                       1.000   1.000     1.000\n",
      "Diabetes                                     1.000   1.000     1.000\n",
      "Dimorphic hemmorhoids(piles)                 1.000   1.000     1.000\n",
      "Drug Reaction                                1.000   1.000     1.000\n",
      "Fungal infection                             1.000   1.000     1.000\n",
      "GERD                                         1.000   1.000     1.000\n",
      "Gastroenteritis                              1.000   1.000     1.000\n",
      "Heart attack                                 1.000   1.000     1.000\n",
      "Hepatitis B                                  1.000   1.000     1.000\n",
      "Hepatitis C                                  1.000   1.000     1.000\n",
      "Hepatitis D                                  0.960   1.000     0.980\n",
      "Hepatitis E                                  1.000   0.958     0.979\n",
      "Hypertension                                 1.000   1.000     1.000\n",
      "Hyperthyroidism                              1.000   1.000     1.000\n",
      "Hypoglycemia                                 1.000   1.000     1.000\n",
      "Hypothyroidism                               1.000   1.000     1.000\n",
      "Impetigo                                     1.000   1.000     1.000\n",
      "Jaundice                                     1.000   1.000     1.000\n",
      "Malaria                                      1.000   1.000     1.000\n",
      "Migraine                                     1.000   1.000     1.000\n",
      "Osteoarthristis                              1.000   1.000     1.000\n",
      "Paralysis (brain hemorrhage)                 1.000   1.000     1.000\n",
      "Peptic ulcer diseae                          1.000   1.000     1.000\n",
      "Pneumonia                                    0.958   0.958     0.958\n",
      "Psoriasis                                    1.000   1.000     1.000\n",
      "Tuberculosis                                 1.000   1.000     1.000\n",
      "Typhoid                                      1.000   1.000     1.000\n",
      "Urinary tract infection                      1.000   1.000     1.000\n",
      "Varicose veins                               1.000   1.000     1.000\n",
      "hepatitis A                                  1.000   1.000     1.000\n",
      "accuracy                                     0.997   0.997     0.997\n",
      "macro avg                                    0.997   0.997     0.997\n",
      "weighted avg                                 0.997   0.997     0.997\n",
      "\n",
      " Macro-average ROC–AUC: 0.9999\n"
     ]
    },
    {
     "data": {
      "image/png": "[encoded data removed]",
      "text/plain": [
       "<Figure size 1000x800 with 1 Axes>"
      ]
     },
     "metadata": {},
     "output_type": "display_data"
    }
   ],
   "source": [
    "# ============================================================\n",
    "# STEP 4: METRICS\n",
    "# ============================================================\n",
    "acc = np.mean(y_pred == y_true)\n",
    "print(f\"\\n Random Forest trained successfully! Accuracy ≈ {acc*100:.2f}%\")\n",
    "\n",
    "# Classification report\n",
    "report = classification_report(y_true, y_pred, target_names=class_names, output_dict=True)\n",
    "report_df = pd.DataFrame(report).transpose()\n",
    "print(\"\\n Classification Metrics:\")\n",
    "print(report_df[[\"precision\", \"recall\", \"f1-score\"]].round(3))\n",
    "\n",
    "# ROC–AUC\n",
    "try:\n",
    "    roc_auc = roc_auc_score(y_test, y_prob, average=\"macro\", multi_class=\"ovr\")\n",
    "    print(f\"\\n Macro-average ROC–AUC: {roc_auc:.4f}\")\n",
    "except Exception as e:\n",
    "    print(f\"\\n ROC–AUC could not be computed: {e}\")\n",
    "\n",
    "# Confusion matrix\n",
    "cm = confusion_matrix(y_true, y_pred)\n",
    "plt.figure(figsize=(10,8))\n",
    "sns.heatmap(cm, cmap=\"Blues\", cbar=False)\n",
    "plt.title(\"Confusion Matrix — Random Forest (Scikit-Learn)\")\n",
    "plt.xlabel(\"Predicted\")\n",
    "plt.ylabel(\"Actual\")\n",
    "plt.show()"
   ]
  },
  {
   "cell_type": "code",
   "execution_count": 19,
   "id": "b5a9ca01-5a05-467f-b490-804fe4a5482b",
   "metadata": {},
   "outputs": [],
   "source": [
    "# ============================================================\n",
    "# STEP 5: SEVERITY + DISEASE INFO RETRIEVAL\n",
    "# ============================================================\n",
    "sev[\"Symptom\"] = sev[\"Symptom\"].str.lower().str.strip().str.replace(\" \", \"_\")\n",
    "sev_map = dict(zip(sev[\"Symptom\"], sev[\"weight\"]))\n",
    "max_weight = sev[\"weight\"].max()\n",
    "\n",
    "def get_disease_info_from_csv(disease_name, df_like):\n",
    "    for col in df_like.columns:\n",
    "        if col.lower() in [\"disease\", \"prognosis\", \"disease_name\"]:\n",
    "            key_col = col\n",
    "            break\n",
    "    else:\n",
    "        return None\n",
    "\n",
    "    df_like[key_col] = df_like[key_col].astype(str).str.lower().str.strip()\n",
    "    match = difflib.get_close_matches(disease_name.lower(), df_like[key_col].tolist(), n=1, cutoff=0.6)\n",
    "    if not match:\n",
    "        return None\n",
    "    row = df_like[df_like[key_col] == match[0]]\n",
    "    if not row.empty:\n",
    "        return [str(x) for x in row.iloc[0, 1:].dropna().tolist()]\n",
    "    return None"
   ]
  },
  {
   "cell_type": "code",
   "execution_count": 20,
   "id": "a44fdf89-acc6-4203-bc69-55d07cb1b43a",
   "metadata": {},
   "outputs": [],
   "source": [
    "# ============================================================\n",
    "# STEP 6: PREDICTION FUNCTION\n",
    "# ============================================================\n",
    "def build_input(symptoms, severities=None):\n",
    "    x = np.zeros(len(X.columns))\n",
    "    matched, total = [], 0\n",
    "    for s in symptoms:\n",
    "        s_clean = s.lower().strip().replace(\" \", \"_\")\n",
    "        if s_clean in X.columns:\n",
    "            val = severities.get(s_clean, 10) if severities else 10\n",
    "            val = np.clip(val, 1, 10)\n",
    "            x[X.columns.get_loc(s_clean)] = val / 10\n",
    "            matched.append(s_clean)\n",
    "            total += sev_map.get(s_clean, max_weight * 0.5) * (val / 10)\n",
    "    return x, matched, total\n",
    "\n",
    "def get_disease_info(symptoms, severities=None, plot=True):\n",
    "    x, matched, total = build_input(symptoms, severities)\n",
    "    proba = forest.predict_proba([x])[0]\n",
    "    top3_idx = np.argsort(proba)[-3:][::-1]\n",
    "    top3 = [(class_names[i], float(proba[i])) for i in top3_idx]\n",
    "    main = top3[0][0]\n",
    "\n",
    "    sev_conf = (math.log1p(total) / math.log1p(max_weight * len(matched))) * 100 if matched else 0\n",
    "    sev_conf = min(100, sev_conf)\n",
    "    results = []\n",
    "    for d, p in top3:\n",
    "        model_conf = p * 100\n",
    "        final_conf = 0.6 * model_conf + 0.4 * sev_conf\n",
    "        results.append((d, round(final_conf, 2), round(model_conf, 2)))\n",
    "\n",
    "    results = sorted(results, key=lambda r: r[1], reverse=True)\n",
    "    main_pred, main_conf, main_model_conf = results[0]\n",
    "\n",
    "    disease_info = {\n",
    "        \"Top 3 Diseases\": results,\n",
    "        \"Predicted Disease\": main_pred,\n",
    "        \"Final Confidence (%)\": main_conf,\n",
    "        \"Model Confidence (%)\": main_model_conf,\n",
    "        \"Severity Confidence (%)\": round(sev_conf, 2)\n",
    "    }\n",
    "\n",
    "    for label, dataset in [\n",
    "        (\"Description\", desc),\n",
    "        (\"Diet\", diet),\n",
    "        (\"Medication\", med),\n",
    "        (\"Precautions\", prec),\n",
    "        (\"Workout\", work),\n",
    "    ]:\n",
    "        info = get_disease_info_from_csv(main_pred, dataset)\n",
    "        if info:\n",
    "            disease_info[label] = info\n",
    "\n",
    "    if plot:\n",
    "        plt.figure(figsize=(10, 4))\n",
    "        plt.subplot(1, 2, 1)\n",
    "        plt.barh([r[0] for r in results][::-1], [r[1] for r in results][::-1])\n",
    "        plt.title(\"Top-3 Predicted Diseases\")\n",
    "        plt.xlabel(\"Confidence (%)\")\n",
    "\n",
    "        plt.subplot(1, 2, 2)\n",
    "        comps = [\"Model\", \"Severity\"]\n",
    "        vals = [main_model_conf, sev_conf]\n",
    "        plt.bar(comps, vals)\n",
    "        plt.title(\"Confidence Breakdown\")\n",
    "        plt.tight_layout()\n",
    "        plt.show(block=False)\n",
    "\n",
    "    return disease_info\n"
   ]
  },
  {
   "cell_type": "code",
   "execution_count": 21,
   "id": "d70080f7-6786-4c3d-b8a7-0d34b13bea3b",
   "metadata": {},
   "outputs": [
    {
     "data": {
      "image/png": "[encoded data removed]",
      "text/plain": [
       "<Figure size 1000x400 with 2 Axes>"
      ]
     },
     "metadata": {},
     "output_type": "display_data"
    },
    {
     "name": "stdout",
     "output_type": "stream",
     "text": [
      "\n",
      "🧾 Final Disease Report:\n",
      "\n",
      "Top 3 Diseases: [('Drug Reaction', 23.82, 11.06), ('Chronic cholestasis', 22.39, 8.68), ('Hepatitis B', 22.15, 8.29)]\n",
      "\n",
      "Predicted Disease: Drug Reaction\n",
      "\n",
      "Final Confidence (%): 23.82\n",
      "\n",
      "Model Confidence (%): 11.06\n",
      "\n",
      "Severity Confidence (%): 42.95\n",
      "\n",
      "Description: ['Drug Reaction occurs when the body reacts adversely to a medication.']\n",
      "\n",
      "Diet: [\"['Antihistamine Diet', 'Omega-3-rich foods', 'Vitamin C-rich foods', 'Quercetin-rich foods', 'Probiotics']\"]\n",
      "\n",
      "Medication: [\"['Antihistamines', 'Epinephrine', 'Corticosteroids', 'Antibiotics', 'Antifungal Cream']\"]\n",
      "\n",
      "Precautions: ['drug reaction', 'stop irritation', 'consult nearest hospital', 'stop taking drug', 'follow up']\n",
      "\n",
      "Workout: ['40', 'drug reaction', 'Discontinue offending medication']\n",
      "\n",
      " Execution completed successfully!\n"
     ]
    }
   ],
   "source": [
    "# ============================================================\n",
    "# STEP 7: TEST\n",
    "# ============================================================\n",
    "if __name__ == \"__main__\":\n",
    "    symptoms = [\"itching\", \"skin_rash\"]\n",
    "    severities = {\"itching\": 7, \"skin_rash\": 5}\n",
    "    result = get_disease_info(symptoms, severities)\n",
    "    print(\"\\n🧾 Final Disease Report:\\n\")\n",
    "    for k, v in result.items():\n",
    "        print(f\"{k}: {v}\\n\")\n",
    "    print(\" Execution completed successfully!\")"
   ]
  },
  {
   "cell_type": "code",
   "execution_count": 22,
   "id": "08e6bee5-c5ed-4f8f-9e41-e5943826e1e2",
   "metadata": {},
   "outputs": [],
   "source": [
    "# ============================================================\n",
    "#  AI DOCTOR — RBF Kernel SVM + Full Disease Info + Metrics (Final Stable Version)\n",
    "# ============================================================\n",
    "\n",
    "import numpy as np\n",
    "import pandas as pd\n",
    "import matplotlib.pyplot as plt\n",
    "from sklearn.model_selection import train_test_split, GridSearchCV\n",
    "from sklearn.preprocessing import StandardScaler\n",
    "from sklearn.svm import SVC\n",
    "from sklearn.pipeline import make_pipeline\n",
    "from sklearn.metrics import (\n",
    "    classification_report,\n",
    "    roc_auc_score,\n",
    "    confusion_matrix\n",
    ")\n",
    "import seaborn as sns"
   ]
  },
  {
   "cell_type": "code",
   "execution_count": 23,
   "id": "e744b739-c734-46a9-8687-de9e4e91da61",
   "metadata": {},
   "outputs": [],
   "source": [
    "# ============================================================\n",
    "# 1️ Load All CSV Files\n",
    "# ============================================================\n",
    "df_main = pd.read_csv(\"Training_like_AI_Doctor.csv\")\n",
    "df_desc = pd.read_csv(\"description.csv\")\n",
    "df_meds = pd.read_csv(\"medications.csv\")\n",
    "df_diet = pd.read_csv(\"diets.csv\")\n",
    "df_prec = pd.read_csv(\"precautions_df.csv\")\n",
    "df_work = pd.read_csv(\"workout_df.csv\")\n"
   ]
  },
  {
   "cell_type": "code",
   "execution_count": 24,
   "id": "7d14484d-1da2-41ee-96d6-8f0c5e248577",
   "metadata": {},
   "outputs": [],
   "source": [
    "# ============================================================\n",
    "# 2️ Prepare Data\n",
    "# ============================================================\n",
    "label_col = \"prognosis\"\n",
    "feature_cols = [c for c in df_main.columns if c != label_col]\n",
    "X = df_main[feature_cols].values.astype(float)\n",
    "y = df_main[label_col].astype(str).values  # 1D string labels (fixed)\n",
    "\n",
    "X_train, X_test, y_train, y_test = train_test_split(\n",
    "    X, y, test_size=0.2, random_state=42, stratify=y\n",
    ")"
   ]
  },
  {
   "cell_type": "code",
   "execution_count": 25,
   "id": "a22c9418-8d27-414d-ba8c-18ad2b745023",
   "metadata": {},
   "outputs": [
    {
     "name": "stdout",
     "output_type": "stream",
     "text": [
      " Model training completed successfully!\n"
     ]
    }
   ],
   "source": [
    "# ============================================================\n",
    "# 3️ Build and Train RBF Kernel SVM (Optimized)\n",
    "# ============================================================\n",
    "# This version skips long GridSearchCV and uses tuned hyperparameters directly\n",
    "model = make_pipeline(\n",
    "    StandardScaler(),\n",
    "    SVC(kernel='rbf', C=10, gamma='scale', probability=True, class_weight='balanced', random_state=42)\n",
    ")\n",
    "\n",
    "model.fit(X_train, y_train)\n",
    "print(\" Model training completed successfully!\")"
   ]
  },
  {
   "cell_type": "code",
   "execution_count": 26,
   "id": "136c382d-262c-4e35-aa78-12dd6129ab6b",
   "metadata": {},
   "outputs": [
    {
     "name": "stdout",
     "output_type": "stream",
     "text": [
      "\n",
      " Test Accuracy: 99.70%\n",
      "\n",
      " Classification Report:\n",
      "                                         precision  recall  f1-score\n",
      "(vertigo) Paroymsal  Positional Vertigo      1.000   1.000     1.000\n",
      "AIDS                                         1.000   1.000     1.000\n",
      "Acne                                         1.000   1.000     1.000\n",
      "Alcoholic hepatitis                          1.000   1.000     1.000\n",
      "Allergy                                      1.000   1.000     1.000\n",
      "Arthritis                                    1.000   1.000     1.000\n",
      "Bronchial Asthma                             0.960   1.000     0.980\n",
      "Cervical spondylosis                         1.000   1.000     1.000\n",
      "Chicken pox                                  1.000   1.000     1.000\n",
      "Chronic cholestasis                          1.000   1.000     1.000\n",
      "Common Cold                                  1.000   0.958     0.979\n",
      "Dengue                                       1.000   1.000     1.000\n",
      "Diabetes                                     1.000   1.000     1.000\n",
      "Dimorphic hemmorhoids(piles)                 1.000   1.000     1.000\n",
      "Drug Reaction                                1.000   1.000     1.000\n",
      "Fungal infection                             1.000   1.000     1.000\n",
      "GERD                                         1.000   1.000     1.000\n",
      "Gastroenteritis                              1.000   1.000     1.000\n",
      "Heart attack                                 1.000   1.000     1.000\n",
      "Hepatitis B                                  1.000   1.000     1.000\n",
      "Hepatitis C                                  1.000   1.000     1.000\n",
      "Hepatitis D                                  0.960   1.000     0.980\n",
      "Hepatitis E                                  1.000   0.958     0.979\n",
      "Hypertension                                 1.000   1.000     1.000\n",
      "Hyperthyroidism                              1.000   1.000     1.000\n",
      "Hypoglycemia                                 1.000   1.000     1.000\n",
      "Hypothyroidism                               1.000   1.000     1.000\n",
      "Impetigo                                     1.000   1.000     1.000\n",
      "Jaundice                                     1.000   1.000     1.000\n",
      "Malaria                                      1.000   1.000     1.000\n",
      "Migraine                                     1.000   1.000     1.000\n",
      "Osteoarthristis                              1.000   1.000     1.000\n",
      "Paralysis (brain hemorrhage)                 1.000   1.000     1.000\n",
      "Peptic ulcer diseae                          1.000   1.000     1.000\n",
      "Pneumonia                                    0.958   0.958     0.958\n",
      "Psoriasis                                    1.000   1.000     1.000\n",
      "Tuberculosis                                 1.000   1.000     1.000\n",
      "Typhoid                                      1.000   1.000     1.000\n",
      "Urinary tract infection                      1.000   1.000     1.000\n",
      "Varicose veins                               1.000   1.000     1.000\n",
      "hepatitis A                                  1.000   1.000     1.000\n",
      "accuracy                                     0.997   0.997     0.997\n",
      "macro avg                                    0.997   0.997     0.997\n",
      "weighted avg                                 0.997   0.997     0.997\n",
      "\n",
      " Macro-average ROC–AUC: 0.9999\n"
     ]
    },
    {
     "data": {
      "image/png": "[encoded data removed]",
      "text/plain": [
       "<Figure size 1000x800 with 1 Axes>"
      ]
     },
     "metadata": {},
     "output_type": "display_data"
    }
   ],
   "source": [
    "# ============================================================\n",
    "# 4️ Evaluate Model (Accuracy, Precision, Recall, F1, ROC–AUC)\n",
    "# ============================================================\n",
    "y_pred = model.predict(X_test)\n",
    "y_prob = model.predict_proba(X_test)\n",
    "\n",
    "accuracy = model.score(X_test, y_test)\n",
    "report = classification_report(y_test, y_pred, output_dict=True)\n",
    "report_df = pd.DataFrame(report).transpose()\n",
    "\n",
    "try:\n",
    "    roc_auc = roc_auc_score(pd.get_dummies(y_test), y_prob, average='macro', multi_class='ovr')\n",
    "except Exception:\n",
    "    roc_auc = None\n",
    "\n",
    "print(f\"\\n Test Accuracy: {accuracy*100:.2f}%\")\n",
    "print(\"\\n Classification Report:\")\n",
    "print(report_df[[\"precision\", \"recall\", \"f1-score\"]].round(3))\n",
    "if roc_auc:\n",
    "    print(f\"\\n Macro-average ROC–AUC: {roc_auc:.4f}\")\n",
    "\n",
    "# Confusion Matrix Visualization\n",
    "cm = confusion_matrix(y_test, y_pred)\n",
    "plt.figure(figsize=(10, 8))\n",
    "sns.heatmap(cm, cmap=\"Blues\", cbar=False)\n",
    "plt.title(\"Confusion Matrix — RBF SVM\")\n",
    "plt.xlabel(\"Predicted\")\n",
    "plt.ylabel(\"Actual\")\n",
    "plt.show()"
   ]
  },
  {
   "cell_type": "code",
   "execution_count": 27,
   "id": "93182065-4ea6-43c9-ba90-89bbb2df6955",
   "metadata": {},
   "outputs": [],
   "source": [
    "# ============================================================\n",
    "# 5️ Function to Fetch Disease Details (robust to column names)\n",
    "# ============================================================\n",
    "def get_disease_details(disease_name):\n",
    "    d = disease_name.strip().lower()\n",
    "    details = {}\n",
    "\n",
    "    def extract(df):\n",
    "        # find the disease column automatically (case-insensitive)\n",
    "        disease_cols = [c for c in df.columns if c.strip().lower() == \"disease\"]\n",
    "        if not disease_cols:\n",
    "            return []\n",
    "        col = disease_cols[0]\n",
    "        row = df[df[col].astype(str).str.lower().str.strip() == d]\n",
    "        if row.empty:\n",
    "            return []\n",
    "        return [\n",
    "            str(x)\n",
    "            for x in row.drop(columns=col).values.flatten()\n",
    "            if str(x).strip() and str(x).lower() != \"nan\"\n",
    "        ]\n",
    "\n",
    "    # Description\n",
    "    try:\n",
    "        desc_col = [c for c in df_desc.columns if c.strip().lower() == \"disease\"]\n",
    "        if desc_col:\n",
    "            desc_row = df_desc[df_desc[desc_col[0]].astype(str).str.lower().str.strip() == d]\n",
    "            details[\"Description\"] = (\n",
    "                desc_row[\"Description\"].iloc[0]\n",
    "                if not desc_row.empty\n",
    "                else \"No description available.\"\n",
    "            )\n",
    "        else:\n",
    "            details[\"Description\"] = \"No description available.\"\n",
    "    except Exception:\n",
    "        details[\"Description\"] = \"No description available.\"\n",
    "\n",
    "    # Other details\n",
    "    details[\"Medications\"] = extract(df_meds) or [\"No specific medications.\"]\n",
    "    details[\"Diet\"] = extract(df_diet) or [\"No specific diet.\"]\n",
    "    details[\"Precautions\"] = extract(df_prec) or [\"No specific precautions.\"]\n",
    "    details[\"Workout\"] = extract(df_work) or [\"No workout details.\"]\n",
    "    return details\n"
   ]
  },
  {
   "cell_type": "code",
   "execution_count": 28,
   "id": "79f36133-dcd8-4eb1-b01d-aa43640e2e73",
   "metadata": {},
   "outputs": [],
   "source": [
    "# ============================================================\n",
    "# 6️ Prediction with Confidences (Top 3)\n",
    "# ============================================================\n",
    "def build_feature(symptom_to_severity_1_10):\n",
    "    x = np.zeros(len(feature_cols))\n",
    "    for i, name in enumerate(feature_cols):\n",
    "        if name in symptom_to_severity_1_10:\n",
    "            s = min(10.0, max(1.0, float(symptom_to_severity_1_10[name])))\n",
    "            x[i] = s / 10.0\n",
    "    return x.reshape(1, -1)\n",
    "\n",
    "def predict_with_confidences(symptom_to_severity_1_10):\n",
    "    x = build_feature(symptom_to_severity_1_10)\n",
    "    probs = model.predict_proba(x)[0]\n",
    "    top3_idx = np.argsort(probs)[-3:][::-1]\n",
    "    severity_conf = np.mean(list(symptom_to_severity_1_10.values())) / 10.0\n",
    "\n",
    "    results = []\n",
    "    for i in top3_idx:\n",
    "        disease = model.classes_[i]\n",
    "        model_conf = probs[i]\n",
    "        final_conf = 0.6 * model_conf + 0.4 * severity_conf\n",
    "        results.append({\n",
    "            \"Disease\": disease,\n",
    "            \"Model Confidence\": round(model_conf, 4),\n",
    "            \"Severity Confidence\": round(severity_conf, 4),\n",
    "            \"Final Confidence\": round(final_conf, 4),\n",
    "            \"Details\": get_disease_details(disease)\n",
    "        })\n",
    "    best = max(results, key=lambda r: r[\"Final Confidence\"])\n",
    "    return results, best\n",
    "\n"
   ]
  },
  {
   "cell_type": "code",
   "execution_count": 29,
   "id": "bcf4d547-32ae-4b0d-83d1-bfd2d80ee3b5",
   "metadata": {},
   "outputs": [
    {
     "name": "stdout",
     "output_type": "stream",
     "text": [
      "\n",
      " Top 3 Predicted Diseases:\n",
      "Fungal infection          | Final Conf: 0.5294 | Model: 0.5157 | Severity: 0.55\n",
      "Chicken pox               | Final Conf: 0.2638 | Model: 0.073 | Severity: 0.55\n",
      "Dengue                    | Final Conf: 0.2448 | Model: 0.0413 | Severity: 0.55\n",
      "\n",
      " Final Predicted Disease: Fungal infection\n"
     ]
    }
   ],
   "source": [
    "# ============================================================\n",
    "# 7️ Example Prediction\n",
    "# ============================================================\n",
    "example_input = {\n",
    "    \"itching\": 6,\n",
    "    \"skin_rash\": 7,\n",
    "    \"nodal_skin_eruptions\": 4,\n",
    "    \"dischromic__patches\": 5\n",
    "}\n",
    "\n",
    "top3_results, final_choice = predict_with_confidences(example_input)\n",
    "\n",
    "print(\"\\n Top 3 Predicted Diseases:\")\n",
    "for r in top3_results:\n",
    "    print(f\"{r['Disease']:25} | Final Conf: {r['Final Confidence']} | Model: {r['Model Confidence']} | Severity: {r['Severity Confidence']}\")\n",
    "\n",
    "print(f\"\\n Final Predicted Disease: {final_choice['Disease']}\")"
   ]
  },
  {
   "cell_type": "code",
   "execution_count": 30,
   "id": "d35638c7-cf35-406a-8ca3-6adc6d6a55c8",
   "metadata": {},
   "outputs": [
    {
     "name": "stdout",
     "output_type": "stream",
     "text": [
      "\n",
      " Disease Details:\n",
      "\n",
      " Description: Fungal infection is a common skin condition caused by fungi.\n",
      "\n",
      " Medications: ['Antifungal Cream', 'Fluconazole', 'Terbinafine', 'Clotrimazole', 'Ketoconazole']\n",
      "\n",
      " Diet Plan: ['Antifungal Diet', 'Probiotics', 'Garlic', 'Coconut oil', 'Turmeric']\n",
      "\n",
      " Precautions: 27, bath twice, use detol or neem in bathing water, keep infected area dry, use clean cloths\n",
      "\n",
      " Workout Advice: 0, 0, Avoid sugary foods, 1, 1, Consume probiotics, 2, 2, Increase intake of garlic, 3, 3, Include yogurt in diet, 4, 4, Limit processed foods, 5, 5, Stay hydrated, 6, 6, Consume green tea, 7, 7, Eat foods rich in zinc, 8, 8, Include turmeric in diet, 9, 9, Eat fruits and vegetables\n"
     ]
    }
   ],
   "source": [
    "# ============================================================\n",
    "# 8️ Disease Information\n",
    "# ============================================================\n",
    "info = final_choice[\"Details\"]\n",
    "print(\"\\n Disease Details:\\n\")\n",
    "print(\" Description:\", info[\"Description\"])\n",
    "print(\"\\n Medications:\", \", \".join(info[\"Medications\"]))\n",
    "print(\"\\n Diet Plan:\", \", \".join(info[\"Diet\"]))\n",
    "print(\"\\n Precautions:\", \", \".join(info[\"Precautions\"]))\n",
    "print(\"\\n Workout Advice:\", \", \".join(info[\"Workout\"]))"
   ]
  },
  {
   "cell_type": "code",
   "execution_count": 31,
   "id": "18237950-c5d5-4c9c-bb26-724790334733",
   "metadata": {},
   "outputs": [
    {
     "data": {
      "image/png": "[encoded data removed]",
      "text/plain": [
       "<Figure size 800x500 with 1 Axes>"
      ]
     },
     "metadata": {},
     "output_type": "display_data"
    },
    {
     "data": {
      "image/png": "[encoded data removed]",
      "text/plain": [
       "<Figure size 600x500 with 1 Axes>"
      ]
     },
     "metadata": {},
     "output_type": "display_data"
    }
   ],
   "source": [
    "# ============================================================\n",
    "# 9️ Graphs — Top 3 & Confidence Breakdown\n",
    "# ============================================================\n",
    "plt.figure(figsize=(8,5))\n",
    "plt.bar(\n",
    "    [r[\"Disease\"] for r in top3_results],\n",
    "    [r[\"Final Confidence\"] for r in top3_results],\n",
    "    color=\"skyblue\", edgecolor=\"black\"\n",
    ")\n",
    "plt.title(\"Top 3 Predicted Diseases (Final Confidence)\")\n",
    "plt.xlabel(\"Disease\")\n",
    "plt.ylabel(\"Confidence\")\n",
    "plt.ylim(0, 1)\n",
    "plt.show()\n",
    "\n",
    "labels = [\"Model\", \"Severity\", \"Final\"]\n",
    "values = [\n",
    "    final_choice[\"Model Confidence\"],\n",
    "    final_choice[\"Severity Confidence\"],\n",
    "    final_choice[\"Final Confidence\"]\n",
    "]\n",
    "\n",
    "plt.figure(figsize=(6,5))\n",
    "plt.bar(labels, values, color=[\"#4caf50\",\"#ff9800\",\"#2196f3\"], edgecolor=\"black\")\n",
    "plt.title(f\"Confidence Breakdown for {final_choice['Disease']}\")\n",
    "plt.ylim(0, 1)\n",
    "plt.show()"
   ]
  },
  {
   "cell_type": "code",
   "execution_count": 32,
   "id": "a389dba2",
   "metadata": {},
   "outputs": [
    {
     "name": "stdout",
     "output_type": "stream",
     "text": [
      " Complete pipeline saved: saved_models/ai_doctor_pipeline.pkl\n",
      " Scaler saved: saved_models/scaler.pkl\n",
      " SVM model saved: saved_models/svm_model.pkl\n",
      " Metadata saved: saved_models/model_metadata.pkl\n",
      "\n",
      " All models saved successfully in 'saved_models' directory!\n"
     ]
    }
   ],
   "source": [
    "import joblib\n",
    "import os\n",
    "\n",
    "# Create directory for saving models\n",
    "os.makedirs('saved_models', exist_ok=True)\n",
    "\n",
    "# Save the complete pipeline (includes scaler + model)\n",
    "joblib.dump(model, 'saved_models/ai_doctor_pipeline.pkl')\n",
    "print(\" Complete pipeline saved: saved_models/ai_doctor_pipeline.pkl\")\n",
    "\n",
    "# Extract and save scaler from pipeline\n",
    "scaler = model.named_steps['standardscaler']\n",
    "joblib.dump(scaler, 'saved_models/scaler.pkl')\n",
    "print(\" Scaler saved: saved_models/scaler.pkl\")\n",
    "\n",
    "# Extract and save SVM model from pipeline\n",
    "svm_model = model.named_steps['svc']\n",
    "joblib.dump(svm_model, 'saved_models/svm_model.pkl')\n",
    "print(\" SVM model saved: saved_models/svm_model.pkl\")\n",
    "\n",
    "# Save metadata (feature names and classes)\n",
    "model_metadata = {\n",
    "    'feature_names': feature_cols,\n",
    "    'classes': model.classes_.tolist(),\n",
    "    'n_features': len(feature_cols)\n",
    "}\n",
    "joblib.dump(model_metadata, 'saved_models/model_metadata.pkl')\n",
    "print(\" Metadata saved: saved_models/model_metadata.pkl\")\n",
    "\n",
    "print(\"\\n All models saved successfully in 'saved_models' directory!\")"
   ]
  },
  {
   "cell_type": "code",
   "execution_count": 33,
   "id": "13af5755",
   "metadata": {},
   "outputs": [
    {
     "name": "stdout",
     "output_type": "stream",
     "text": [
      " Random Forest model saved: saved_models/ai_doctor_random_forest.pkl\n",
      " Metadata saved: saved_models/rf_model_metadata.pkl\n",
      "\n",
      " All Random Forest assets saved successfully in 'saved_models' directory!\n"
     ]
    }
   ],
   "source": [
    "import joblib\n",
    "import os\n",
    "\n",
    "# Create directory for saving models\n",
    "os.makedirs('saved_models', exist_ok=True)\n",
    "\n",
    "# Save the trained Random Forest model\n",
    "joblib.dump(forest, 'saved_models/ai_doctor_random_forest.pkl')\n",
    "print(\" Random Forest model saved: saved_models/ai_doctor_random_forest.pkl\")\n",
    "\n",
    "# Save metadata (feature names and classes)\n",
    "model_metadata = {\n",
    "    'feature_names': feature_cols,          #  use stored column names here\n",
    "    'classes': class_names.tolist(),\n",
    "    'n_features': len(feature_cols)\n",
    "}\n",
    "joblib.dump(model_metadata, 'saved_models/rf_model_metadata.pkl')\n",
    "print(\" Metadata saved: saved_models/rf_model_metadata.pkl\")\n",
    "\n",
    "print(\"\\n All Random Forest assets saved successfully in 'saved_models' directory!\")\n"
   ]
  }
 ],
 "metadata": {
  "kernelspec": {
   "display_name": "base",
   "language": "python",
   "name": "python3"
  },
  "language_info": {
   "codemirror_mode": {
    "name": "ipython",
    "version": 3
   },
   "file_extension": ".py",
   "mimetype": "text/x-python",
   "name": "python",
   "nbconvert_exporter": "python",
   "pygments_lexer": "ipython3",
   "version": "3.13.5"
  }
 },
 "nbformat": 4,
 "nbformat_minor": 5
}
